{
 "cells": [
  {
   "cell_type": "code",
   "execution_count": 6,
   "id": "23676d39",
   "metadata": {},
   "outputs": [
    {
     "data": {
      "application/vnd.jupyter.widget-view+json": {
       "model_id": "10fc4c63319341be8d15e972904d8fb6",
       "version_major": 2,
       "version_minor": 0
      },
      "text/plain": [
       "VBox(children=(HTML(value='<center> <img\\nsrc=https://huggingface.co/front/assets/huggingface_logo-noborder.sv…"
      ]
     },
     "metadata": {},
     "output_type": "display_data"
    }
   ],
   "source": [
    "from huggingface_hub import login\n",
    "from huggingface_hub import HfApi\n",
    "login()"
   ]
  },
  {
   "cell_type": "code",
   "execution_count": 3,
   "id": "a30800d8",
   "metadata": {},
   "outputs": [
    {
     "name": "stdout",
     "output_type": "stream",
     "text": [
      "10\n"
     ]
    }
   ],
   "source": [
    "api = HfApi()\n",
    "models = api.list_models(author=\"raghvendramall\")\n",
    "models = list(models)\n",
    "print(len(models))\n"
   ]
  },
  {
   "cell_type": "code",
   "execution_count": null,
   "id": "959dabeb",
   "metadata": {},
   "outputs": [
    {
     "data": {
      "application/vnd.jupyter.widget-view+json": {
       "model_id": "019e0b8dc02544fd933bdecac9e7bc5e",
       "version_major": 2,
       "version_minor": 0
      },
      "text/plain": [
       "Upload 5 LFS files:   0%|          | 0/5 [00:00<?, ?it/s]"
      ]
     },
     "metadata": {},
     "output_type": "display_data"
    },
    {
     "data": {
      "application/vnd.jupyter.widget-view+json": {
       "model_id": "07a5b6469de6475b953ba3525a95c6ab",
       "version_major": 2,
       "version_minor": 0
      },
      "text/plain": [
       "model.safetensors:   0%|          | 0.00/438M [00:00<?, ?B/s]"
      ]
     },
     "metadata": {},
     "output_type": "display_data"
    },
    {
     "data": {
      "application/vnd.jupyter.widget-view+json": {
       "model_id": "f69e76e695bf46a69bef61bd6452ddb5",
       "version_major": 2,
       "version_minor": 0
      },
      "text/plain": [
       "training_args.bin:   0%|          | 0.00/5.78k [00:00<?, ?B/s]"
      ]
     },
     "metadata": {},
     "output_type": "display_data"
    },
    {
     "data": {
      "application/vnd.jupyter.widget-view+json": {
       "model_id": "a7de3a9add02418ca7baf3e594afb906",
       "version_major": 2,
       "version_minor": 0
      },
      "text/plain": [
       "optimizer.pt:   0%|          | 0.00/876M [00:00<?, ?B/s]"
      ]
     },
     "metadata": {},
     "output_type": "display_data"
    },
    {
     "data": {
      "application/vnd.jupyter.widget-view+json": {
       "model_id": "3a61829454904c8e923fe66c5d23e879",
       "version_major": 2,
       "version_minor": 0
      },
      "text/plain": [
       "scheduler.pt:   0%|          | 0.00/1.47k [00:00<?, ?B/s]"
      ]
     },
     "metadata": {},
     "output_type": "display_data"
    },
    {
     "data": {
      "application/vnd.jupyter.widget-view+json": {
       "model_id": "f3b13db29b714551b794d780048a1330",
       "version_major": 2,
       "version_minor": 0
      },
      "text/plain": [
       "rng_state.pth:   0%|          | 0.00/14.6k [00:00<?, ?B/s]"
      ]
     },
     "metadata": {},
     "output_type": "display_data"
    },
    {
     "name": "stdout",
     "output_type": "stream",
     "text": [
      "Model pushed to Hugging Face Hub under the repository: bert-uncased-news-classifier\n"
     ]
    }
   ],
   "source": [
    "# Create a new model repository and push the news classifier model to the Hugging Face Hub using the Hugging Face Hub API\n",
    "api = HfApi()\n",
    "repo_name = \"bert-uncased-news-classifier\"\n",
    "\n",
    "# Create a new model repository under the author's namespace\n",
    "api.create_repo(repo_id=repo_name, repo_type=\"model\", exist_ok=True)\n",
    "\n",
    "api.upload_folder(\n",
    "    folder_path=\"/home/raghvendra/home3/raghvendra/DeepLearning/news_classifier/models/bert-uncased-news-classifier/\",\n",
    "    repo_id=\"raghvendramall/\"+repo_name,\n",
    "    repo_type=\"model\",\n",
    "    commit_message=\"Initial commit of bert-uncased news classifier model\"\n",
    ")\n",
    "\n",
    "print(f\"Model pushed to Hugging Face Hub under the repository: {repo_name}\")    \n",
    "\n"
   ]
  },
  {
   "cell_type": "code",
   "execution_count": 12,
   "id": "de796754",
   "metadata": {},
   "outputs": [
    {
     "name": "stdout",
     "output_type": "stream",
     "text": [
      "README.md file added to the model repository.\n"
     ]
    }
   ],
   "source": [
    "# Add a README.md file to the model repository\n",
    "api.upload_file(\n",
    "    path_or_fileobj=\"/home/raghvendra/home3/raghvendra/DeepLearning/news_classifier/models/bert-uncased-news-classifier/README.md\",\n",
    "    path_in_repo=\"README.md\",\n",
    "    repo_id=\"raghvendramall/\"+repo_name,\n",
    "    repo_type=\"model\",\n",
    "    commit_message=\"Added README.md file\"\n",
    ")\n",
    "\n",
    "print(\"README.md file added to the model repository.\")"
   ]
  },
  {
   "cell_type": "code",
   "execution_count": 13,
   "id": "ae683dcf",
   "metadata": {},
   "outputs": [
    {
     "data": {
      "application/vnd.jupyter.widget-view+json": {
       "model_id": "d440fb1df26942ccb051dddef7275833",
       "version_major": 2,
       "version_minor": 0
      },
      "text/plain": [
       "scheduler.pt:   0%|          | 0.00/1.47k [00:00<?, ?B/s]"
      ]
     },
     "metadata": {},
     "output_type": "display_data"
    },
    {
     "data": {
      "application/vnd.jupyter.widget-view+json": {
       "model_id": "0079204f28f9402fa3c5803f74533927",
       "version_major": 2,
       "version_minor": 0
      },
      "text/plain": [
       "optimizer.pt:   0%|          | 0.00/1.20G [00:00<?, ?B/s]"
      ]
     },
     "metadata": {},
     "output_type": "display_data"
    },
    {
     "data": {
      "application/vnd.jupyter.widget-view+json": {
       "model_id": "ebd69b0f3e9942a2a8bc4b43713d9f41",
       "version_major": 2,
       "version_minor": 0
      },
      "text/plain": [
       "Upload 5 LFS files:   0%|          | 0/5 [00:00<?, ?it/s]"
      ]
     },
     "metadata": {},
     "output_type": "display_data"
    },
    {
     "data": {
      "application/vnd.jupyter.widget-view+json": {
       "model_id": "506d5cbc71dd46cbae24b72732963b1a",
       "version_major": 2,
       "version_minor": 0
      },
      "text/plain": [
       "model.safetensors:   0%|          | 0.00/599M [00:00<?, ?B/s]"
      ]
     },
     "metadata": {},
     "output_type": "display_data"
    },
    {
     "data": {
      "application/vnd.jupyter.widget-view+json": {
       "model_id": "47d62fe0684f4da583881e4b54e70e0a",
       "version_major": 2,
       "version_minor": 0
      },
      "text/plain": [
       "training_args.bin:   0%|          | 0.00/5.78k [00:00<?, ?B/s]"
      ]
     },
     "metadata": {},
     "output_type": "display_data"
    },
    {
     "data": {
      "application/vnd.jupyter.widget-view+json": {
       "model_id": "99fc3c47a869491b8bec3f43b99cb3ec",
       "version_major": 2,
       "version_minor": 0
      },
      "text/plain": [
       "rng_state.pth:   0%|          | 0.00/14.6k [00:00<?, ?B/s]"
      ]
     },
     "metadata": {},
     "output_type": "display_data"
    },
    {
     "name": "stdout",
     "output_type": "stream",
     "text": [
      "Model pushed to Hugging Face Hub under the repository: modernbert-news-classifier\n"
     ]
    }
   ],
   "source": [
    "# Create a new model repository and push the news classifier model to the Hugging Face Hub using the Hugging Face Hub API\n",
    "api = HfApi()\n",
    "repo_name = \"modernbert-news-classifier\"\n",
    "\n",
    "# Create a new model repository under the author's namespace\n",
    "api.create_repo(repo_id=repo_name, repo_type=\"model\", exist_ok=True)\n",
    "\n",
    "api.upload_folder(\n",
    "    folder_path=\"/home/raghvendra/home3/raghvendra/DeepLearning/news_classifier/models/modernbert-news-classifier/\",\n",
    "    repo_id=\"raghvendramall/\"+repo_name,\n",
    "    repo_type=\"model\",\n",
    "    commit_message=\"Initial commit of modernbert news classifier model\"\n",
    ")\n",
    "\n",
    "print(f\"Model pushed to Hugging Face Hub under the repository: {repo_name}\")    \n"
   ]
  },
  {
   "cell_type": "code",
   "execution_count": 14,
   "id": "a43bddd7",
   "metadata": {},
   "outputs": [
    {
     "name": "stdout",
     "output_type": "stream",
     "text": [
      "README.md file added to the model repository.\n"
     ]
    }
   ],
   "source": [
    "# Add a README.md file to the model repository\n",
    "api.upload_file(\n",
    "    path_or_fileobj=\"/home/raghvendra/home3/raghvendra/DeepLearning/news_classifier/models/modernbert-news-classifier/README.md\",\n",
    "    path_in_repo=\"README.md\",\n",
    "    repo_id=\"raghvendramall/\"+repo_name,\n",
    "    repo_type=\"model\",\n",
    "    commit_message=\"Added README.md file\"\n",
    ")\n",
    "\n",
    "print(\"README.md file added to the model repository.\")"
   ]
  },
  {
   "cell_type": "code",
   "execution_count": 3,
   "id": "f7af7c36",
   "metadata": {},
   "outputs": [
    {
     "data": {
      "application/vnd.jupyter.widget-view+json": {
       "model_id": "36d5ca1524fd4788b3e4929498b831b5",
       "version_major": 2,
       "version_minor": 0
      },
      "text/plain": [
       "config.json: 0.00B [00:00, ?B/s]"
      ]
     },
     "metadata": {},
     "output_type": "display_data"
    },
    {
     "data": {
      "application/vnd.jupyter.widget-view+json": {
       "model_id": "9fe5f2b73ade46978f1ae962e6ba797d",
       "version_major": 2,
       "version_minor": 0
      },
      "text/plain": [
       "model.safetensors:   0%|          | 0.00/438M [00:00<?, ?B/s]"
      ]
     },
     "metadata": {},
     "output_type": "display_data"
    }
   ],
   "source": [
    "from transformers import pipeline, AutoModelForSequenceClassification, AutoTokenizer\n",
    "model_id = \"google-bert/bert-base-uncased\"\n",
    "google_bert_tokenizer = AutoTokenizer.from_pretrained(model_id)\n",
    "# Load the model from the saved directory\n",
    "finetuned_model_id = \"raghvendramall/bert-uncased-news-classifier\"\n",
    "google_bert_model = AutoModelForSequenceClassification.from_pretrained(finetuned_model_id)"
   ]
  },
  {
   "cell_type": "code",
   "execution_count": 4,
   "id": "a96a3b7d",
   "metadata": {},
   "outputs": [
    {
     "name": "stderr",
     "output_type": "stream",
     "text": [
      "Device set to use cuda:0\n"
     ]
    },
    {
     "name": "stdout",
     "output_type": "stream",
     "text": [
      "[{'label': 'MEDIA', 'score': 0.8830812573432922}]\n"
     ]
    }
   ],
   "source": [
    "classifier = pipeline(\"text-classification\", model=google_bert_model, tokenizer=google_bert_tokenizer, device='cuda:0')\n",
    "# Example usage\n",
    "text = \"This is a sample news article text.\"\n",
    "result = classifier(text)\n",
    "print(result)"
   ]
  },
  {
   "cell_type": "code",
   "execution_count": null,
   "id": "c955f04c",
   "metadata": {},
   "outputs": [],
   "source": []
  }
 ],
 "metadata": {
  "kernelspec": {
   "display_name": "Python 3",
   "language": "python",
   "name": "python3"
  },
  "language_info": {
   "codemirror_mode": {
    "name": "ipython",
    "version": 3
   },
   "file_extension": ".py",
   "mimetype": "text/x-python",
   "name": "python",
   "nbconvert_exporter": "python",
   "pygments_lexer": "ipython3",
   "version": "3.10.16"
  }
 },
 "nbformat": 4,
 "nbformat_minor": 5
}
